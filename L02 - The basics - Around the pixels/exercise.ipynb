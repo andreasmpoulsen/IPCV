{
 "cells": [
  {
   "cell_type": "markdown",
   "metadata": {},
   "source": [
    "## Exercise 7\n",
    "\n",
    "1. Make a Python program which performs a connected component analysis on  [shapes.png](exercise_materials\\shapes.png).​ Implement the connected component analysis with your own functions.\n",
    "2. Compute and print the compactness for each shape.\n",
    "3. Try to use OpenCV’s connectedComponents-function​"
   ]
  },
  {
   "cell_type": "code",
   "execution_count": null,
   "metadata": {},
   "outputs": [],
   "source": [
    "import cv2 as cv2\n",
    "import numpy as np\n",
    "from collections import deque\n",
    "\n",
    "img = cv2.imread(\"exercise_materials\\shapes.png\", 0)\n",
    "\n",
    "def grassfire(image):\n",
    "    height, width = image.shape\n",
    "    output = np.zeros((height, width), dtype=np.uint8)\n",
    "    current_id = 1\n",
    "    blobs = {}\n",
    "    burn_queue = deque([])\n",
    "    for y in range(1, width - 1):\n",
    "        for x in range(1, height - 1):\n",
    "            if image[x, y] > 0:\n",
    "                burn_queue.append((x, y))\n",
    "                blobs[str(current_id)] = []\n",
    "                while len(burn_queue) > 0:\n",
    "                    coords = burn_queue.pop()\n",
    "                    tmpx = coords[0]\n",
    "                    tmpy = coords[1]\n",
    "                    blobs[str(current_id)].append((tmpx,tmpy))\n",
    "                    image[tmpx, tmpy] = 0\n",
    "                    output[tmpx, tmpy] = 255\n",
    "                    if image[tmpx, tmpy-1] > 0:\n",
    "                        burn_queue.append((tmpx, tmpy-1))\n",
    "                    if image[tmpx-1, tmpy] > 0:\n",
    "                        burn_queue.append((tmpx-1, tmpy))\n",
    "                    if image[tmpx, tmpy+1] > 0:\n",
    "                        burn_queue.append((tmpx, tmpy+1))\n",
    "                    if image[tmpx+1, tmpy] > 0:\n",
    "                        burn_queue.append((tmpx+1, tmpy))\n",
    "                    if len(burn_queue) == 0:\n",
    "                        current_id += 1\n",
    "    return output, blobs\n",
    "\n",
    "blob_img = grassfire(img)\n",
    "\n",
    "cv2.imshow(\"\", blob_img)\n",
    "\n",
    "cv2.waitKey(0)"
   ]
  }
 ],
 "metadata": {
  "interpreter": {
   "hash": "497aa21ce623674ab57e6a8a3790f2b06ff9b9f73cfc8bf83ec5958a2866ef63"
  },
  "kernelspec": {
   "display_name": "Python 3.9.10 ('IPCV')",
   "language": "python",
   "name": "python3"
  },
  "language_info": {
   "codemirror_mode": {
    "name": "ipython",
    "version": 3
   },
   "file_extension": ".py",
   "mimetype": "text/x-python",
   "name": "python",
   "nbconvert_exporter": "python",
   "pygments_lexer": "ipython3",
   "version": "3.9.10"
  },
  "orig_nbformat": 4
 },
 "nbformat": 4,
 "nbformat_minor": 2
}
