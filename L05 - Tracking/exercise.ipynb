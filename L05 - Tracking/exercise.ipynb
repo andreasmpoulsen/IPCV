{
 "cells": [
  {
   "cell_type": "markdown",
   "metadata": {},
   "source": [
    "# Exercise 1\n",
    "\n",
    "1.  Use the [biker.png](biker.png) template to do mean shift tracking in the [traffic video](slow_traffic_small.mp4). (Hint: use OpenCV's calcBackProject() function to produce a similarity image for mean shift - [see this mean shift tutorial](https://docs.opencv.org/3.4/d7/d00/tutorial_meanshift.html) for more pointers)\n",
    "\n",
    "Note that for mean shift tracking you need to provide an initial tracking window manually, and the biker only shows up from frame 114, so wait until then to start tracking."
   ]
  },
  {
   "cell_type": "code",
   "execution_count": 1,
   "metadata": {},
   "outputs": [],
   "source": [
    "import numpy as np\n",
    "import cv2\n",
    "\n",
    "cap = cv2.VideoCapture(\"exercise_materials/slow_traffic_small.mp4\")\n",
    "biker = cv2.imread(\"exercise_materials/biker.png\")\n",
    "\n",
    "ret, frame = cap.read()\n",
    "count = 1\n",
    "\n",
    "x, y, w, h = 600, 200, biker.shape[1] - 20, biker.shape[0] - 30\n",
    "track_window = (x, y, w, h)\n",
    "\n",
    "# set up the ROI for tracking\n",
    "hsv_roi = cv2.cvtColor(biker, cv2.COLOR_BGR2HSV)\n",
    "mask = cv2.inRange(hsv_roi, np.array((0., 60., 32.)),\n",
    "                   np.array((180., 255., 255.)))\n",
    "roi_hist = cv2.calcHist([hsv_roi], [0], mask, [180], [0, 180])\n",
    "cv2.normalize(roi_hist, roi_hist, 0, 255, cv2.NORM_MINMAX)\n",
    "# Setup the termination criteria, either 10 iteration or move by at least 1 pt\n",
    "term_crit = (cv2.TERM_CRITERIA_EPS | cv2.TERM_CRITERIA_COUNT, 10, 1)\n",
    "while(count < 115):\n",
    "    ret, frame = cap.read()\n",
    "    count += 1\n",
    "\n",
    "while(1):\n",
    "    ret, frame = cap.read()\n",
    "    if ret == True:\n",
    "        hsv = cv2.cvtColor(frame, cv2.COLOR_BGR2HSV)\n",
    "        dst = cv2.calcBackProject([hsv], [0], roi_hist, [0, 180], 1)\n",
    "        # apply meanshift to get the new location\n",
    "        ret, track_window = cv2.meanShift(dst, track_window, term_crit)\n",
    "        # Draw it on image\n",
    "        x, y, w, h = track_window\n",
    "        img2 = cv2.rectangle(frame, (x, y), (x+w, y+h), 255, 2)\n",
    "        cv2.imshow('img2', img2)\n",
    "        k = cv2.waitKey(30) & 0xff\n",
    "        if k == 27:\n",
    "            break\n",
    "    else:\n",
    "        break\n"
   ]
  },
  {
   "cell_type": "markdown",
   "metadata": {},
   "source": [
    "2. What happens when the biker disappears over the horizon? Why?\n",
    "\n",
    "MeanShift starts looking at the lines on the road, as they have a similar histogram (in terms of color) to the biker"
   ]
  },
  {
   "cell_type": "markdown",
   "metadata": {},
   "source": [
    "# Exercise 2\n",
    "1. Use the [biker.png](biker.png) template to do Kalman filter tracking in the [traffic video](slow_traffic_small.mp4). \n",
    "\n",
    "Hints: See [this Python implementation](https://raw.githubusercontent.com/tobybreckon/python-examples-cv/master/kalman_tracking_live.py) for pointers. You can define the state as the position and velocity of the biker, and use the output of mean shift or cam shift (or a detection method of your choice) for the measurement update (note: we only measure position!). You will need to define a measurement matrix, a state transition matrix (motion model), as well as covariance matrices for the measurement and process (model) noise. You can start with unit matrices, and experiment with the parameters."
   ]
  },
  {
   "cell_type": "code",
   "execution_count": null,
   "metadata": {},
   "outputs": [],
   "source": []
  },
  {
   "cell_type": "markdown",
   "metadata": {},
   "source": [
    "2. What happens if you skip the measurement step for certain frames?"
   ]
  },
  {
   "cell_type": "markdown",
   "metadata": {},
   "source": [
    "3. (EXTRA) Visualize the position uncertainty (errorCovPost attribute in OpenCV) as an ellipse. Plot the measured vs. Kalman filtered position over time and compare."
   ]
  }
 ],
 "metadata": {
  "interpreter": {
   "hash": "497aa21ce623674ab57e6a8a3790f2b06ff9b9f73cfc8bf83ec5958a2866ef63"
  },
  "kernelspec": {
   "display_name": "Python 3.9.10 ('IPCV')",
   "language": "python",
   "name": "python3"
  },
  "language_info": {
   "codemirror_mode": {
    "name": "ipython",
    "version": 3
   },
   "file_extension": ".py",
   "mimetype": "text/x-python",
   "name": "python",
   "nbconvert_exporter": "python",
   "pygments_lexer": "ipython3",
   "version": "3.9.10"
  },
  "orig_nbformat": 4
 },
 "nbformat": 4,
 "nbformat_minor": 2
}
