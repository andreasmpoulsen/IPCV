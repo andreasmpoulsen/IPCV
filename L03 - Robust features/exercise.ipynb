{
 "cells": [
  {
   "cell_type": "markdown",
   "metadata": {},
   "source": [
    "# Exercise\n",
    "\n",
    "## Exercise 1\n",
    "\n",
    "1. Load two partly overlapping images into OpenCV ([aau-city-1](exercise_material\\aau-city-1) and [aau-city-2](exercise_material\\aau-city-2) from Moodle, or take your own pictures)"
   ]
  },
  {
   "cell_type": "code",
   "execution_count": 1,
   "metadata": {},
   "outputs": [],
   "source": [
    "import cv2\n",
    "\n",
    "aau_city_1 = cv2.imread('exercise_materials/aau-city-1.jpg')\n",
    "aau_city_2 = cv2.imread('exercise_materials/aau-city-2.jpg')"
   ]
  },
  {
   "cell_type": "markdown",
   "metadata": {},
   "source": [
    "2. Extract Harris Corners from both images. You may use the OpenCV function cornerHarris()"
   ]
  },
  {
   "cell_type": "code",
   "execution_count": 2,
   "metadata": {},
   "outputs": [
    {
     "data": {
      "text/plain": [
       "-1"
      ]
     },
     "execution_count": 2,
     "metadata": {},
     "output_type": "execute_result"
    }
   ],
   "source": [
    "import numpy as np\n",
    "\n",
    "gray1 = cv2.cvtColor(aau_city_1, cv2.COLOR_BGR2GRAY)\n",
    "gray2 = cv2.cvtColor(aau_city_2, cv2.COLOR_BGR2GRAY)\n",
    "\n",
    "gray1 = np.float32(gray1)\n",
    "gray2 = np.float32(gray2)\n",
    "\n",
    "dst1 = cv2.cornerHarris(gray1, 2, 3, 0.04)\n",
    "dst2 = cv2.cornerHarris(gray2, 2, 3, 0.04)\n",
    "\n",
    "dst1 = cv2.dilate(dst1, None)\n",
    "dst2 = cv2.dilate(dst2, None)\n",
    "\n",
    "aau_city_1[dst1>0.01*dst1.max()]=[0,0,255]\n",
    "aau_city_2[dst2>0.01*dst2.max()]=[0,0,255]\n",
    "\n",
    "cv2.imshow('dst1', aau_city_1)\n",
    "cv2.imshow('dst2', aau_city_2)\n",
    "\n",
    "cv2.waitKey(0)"
   ]
  },
  {
   "cell_type": "markdown",
   "metadata": {},
   "source": [
    "3. Design and implement your own simple corner matching procedure to find the same points in both images"
   ]
  },
  {
   "cell_type": "code",
   "execution_count": null,
   "metadata": {},
   "outputs": [],
   "source": []
  },
  {
   "cell_type": "markdown",
   "metadata": {},
   "source": [
    "4. Calculate the transformation that aligns the images"
   ]
  },
  {
   "cell_type": "code",
   "execution_count": null,
   "metadata": {},
   "outputs": [],
   "source": []
  },
  {
   "cell_type": "markdown",
   "metadata": {},
   "source": [
    "## Exercise 2\n",
    "1. Change your solution from last exercise to extract ORB keypoints and descriptors instead of Harris Corners and your own descriptors"
   ]
  },
  {
   "cell_type": "code",
   "execution_count": 2,
   "metadata": {},
   "outputs": [
    {
     "data": {
      "text/plain": [
       "-1"
      ]
     },
     "execution_count": 2,
     "metadata": {},
     "output_type": "execute_result"
    }
   ],
   "source": [
    "import matplotlib.pyplot as plt\n",
    "\n",
    "gray1 = cv2.cvtColor(aau_city_1, cv2.COLOR_BGR2GRAY)\n",
    "gray2 = cv2.cvtColor(aau_city_2, cv2.COLOR_BGR2GRAY)\n",
    "\n",
    "orb = cv2.ORB_create()\n",
    "\n",
    "kp1 = orb.detect(gray1, None)\n",
    "kp2 = orb.detect(gray2, None)\n",
    "\n",
    "kp1, des1 = orb.compute(gray1, kp1)\n",
    "kp2, des2 = orb.compute(gray2, kp2)\n",
    "\n",
    "aau_city_1 = cv2.drawKeypoints(aau_city_1, kp1, None, color=(0,255,0), flags=0)\n",
    "aau_city_2 = cv2.drawKeypoints(aau_city_2, kp2, None, color=(0,255,0), flags=0)\n",
    "\n",
    "cv2.imshow('aau_city_1', aau_city_1)\n",
    "cv2.imshow('aau_city_2', aau_city_2)\n",
    "\n",
    "cv2.waitKey(0)"
   ]
  },
  {
   "cell_type": "markdown",
   "metadata": {},
   "source": [
    "2. Match feature descriptors using the DescriptorMatcher class"
   ]
  },
  {
   "cell_type": "code",
   "execution_count": 3,
   "metadata": {},
   "outputs": [],
   "source": [
    "dm = cv2.DescriptorMatcher_create(descriptorMatcherType='BruteForce')\n",
    "\n",
    "matches = dm.match(des1, des2)"
   ]
  },
  {
   "cell_type": "markdown",
   "metadata": {},
   "source": [
    "3. Visualize the matches using the drawMatches function"
   ]
  },
  {
   "cell_type": "code",
   "execution_count": 5,
   "metadata": {},
   "outputs": [
    {
     "data": {
      "text/plain": [
       "-1"
      ]
     },
     "execution_count": 5,
     "metadata": {},
     "output_type": "execute_result"
    }
   ],
   "source": [
    "out = cv2.drawMatches(aau_city_1, kp1, aau_city_2, kp2, matches, None)\n",
    "\n",
    "cv2.imshow('Matches', out)\n",
    "cv2.waitKey(0)"
   ]
  }
 ],
 "metadata": {
  "interpreter": {
   "hash": "5fde0877561fcfb8d1d4d7aca922819fbede693288f33a28f5e442fa18cdad0a"
  },
  "kernelspec": {
   "display_name": "Python 3.9.7 ('ADSSE')",
   "language": "python",
   "name": "python3"
  },
  "language_info": {
   "codemirror_mode": {
    "name": "ipython",
    "version": 3
   },
   "file_extension": ".py",
   "mimetype": "text/x-python",
   "name": "python",
   "nbconvert_exporter": "python",
   "pygments_lexer": "ipython3",
   "version": "3.9.10"
  },
  "orig_nbformat": 4
 },
 "nbformat": 4,
 "nbformat_minor": 2
}
