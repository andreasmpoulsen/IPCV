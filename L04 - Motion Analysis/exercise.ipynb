{
 "cells": [
  {
   "cell_type": "markdown",
   "metadata": {},
   "source": [
    "# Exercise\n",
    "\n",
    "## Exercise 1\n",
    "\n",
    "1. Download the UCSD Anomaly Detection Dataset from [here](http://www.svcl.ucsd.edu/projects/anomaly/dataset.html)\n",
    "2. Pick a sequence to work with, e.g. UCSDped1\\Test\\Test016 (which is good, because it's not too crowded). Use the first picture as background and make a program where you can flip through all pictures and the difference will be highlighted in red, like this:\n",
    "\n",
    "![](example1.png)"
   ]
  },
  {
   "cell_type": "code",
   "execution_count": 1,
   "metadata": {},
   "outputs": [],
   "source": [
    "import glob\n",
    "import cv2\n",
    "import numpy as np\n",
    "\n",
    "images = [cv2.imread(f, cv2.IMREAD_GRAYSCALE)\n",
    "          for f in glob.glob(\"exercise_materials/Test016/*.tif\")]\n",
    "\n",
    "current_image = 0\n",
    "background = images[0]\n",
    "alpha = 0.5\n",
    "\n",
    "while 1:\n",
    "    test_image = images[current_image]\n",
    "    foreground = np.abs(test_image - background)\n",
    "\n",
    "    _, foreground_mask = cv2.threshold(foreground, 50, 255, cv2.THRESH_BINARY)\n",
    "    foreground_mask = foreground_mask.astype(np.uint8)\n",
    "    output_image = cv2.cvtColor(test_image, cv2.COLOR_GRAY2BGR)\n",
    "    empty_image = np.zeros(foreground_mask.shape, foreground_mask.dtype)\n",
    "    foreground_mask_red = np.stack(\n",
    "        [empty_image, empty_image, foreground_mask], axis=2)\n",
    "    output_image = cv2.addWeighted(\n",
    "        output_image, alpha, foreground_mask_red, 1.0 - alpha, 0)\n",
    "\n",
    "    cv2.imshow(\"Output\", output_image)\n",
    "\n",
    "    key = cv2.waitKey(0)\n",
    "    if key == 113 or key == 27:  # q or Esc\n",
    "        break\n",
    "    if key == 109:  # Right arrow\n",
    "        current_image = min(current_image + 1, len(images)-1)\n",
    "    if key == 110:  # Left arrow\n",
    "        current_image = max(current_image - 1, 0)\n"
   ]
  },
  {
   "cell_type": "markdown",
   "metadata": {},
   "source": [
    "3. But that is horrible! You can do better. Compute an average background image and apply that with your program:"
   ]
  },
  {
   "cell_type": "code",
   "execution_count": 3,
   "metadata": {},
   "outputs": [],
   "source": [
    "import glob\n",
    "import cv2\n",
    "import numpy as np\n",
    "\n",
    "images = [cv2.imread(f, cv2.IMREAD_GRAYSCALE)\n",
    "          for f in glob.glob(\"exercise_materials/Test016/*.tif\")]\n",
    "\n",
    "current_image = 0\n",
    "background = images[0]/255\n",
    "alpha = 0.5\n",
    "\n",
    "for i in range(1, len(images)):\n",
    "    background += images[i]/255\n",
    "background /= len(images)\n",
    "background *= 255\n",
    "\n",
    "while 1:\n",
    "    test_image = images[current_image]\n",
    "    foreground = np.abs(test_image - background)\n",
    "\n",
    "    _, foreground_mask = cv2.threshold(foreground, 50, 255, cv2.THRESH_BINARY)\n",
    "    foreground_mask = foreground_mask.astype(np.uint8)\n",
    "    output_image = cv2.cvtColor(test_image, cv2.COLOR_GRAY2BGR)\n",
    "    empty_image = np.zeros(foreground_mask.shape, foreground_mask.dtype)\n",
    "    foreground_mask_red = np.stack(\n",
    "        [empty_image, empty_image, foreground_mask], axis=2)\n",
    "    output_image = cv2.addWeighted(\n",
    "        output_image, alpha, foreground_mask_red, 1.0 - alpha, 0)\n",
    "\n",
    "    cv2.imshow(\"Output\", output_image)\n",
    "\n",
    "    key = cv2.waitKey(0)\n",
    "    if key == 113 or key == 27:  # q or Esc\n",
    "        break\n",
    "    if key == 109:  # Right arrow\n",
    "        current_image = min(current_image + 1, len(images)-1)\n",
    "    if key == 110:  # Left arrow\n",
    "        current_image = max(current_image - 1, 0)\n"
   ]
  },
  {
   "cell_type": "markdown",
   "metadata": {},
   "source": [
    "4. Use cv::BackgroundSubtractorMOG2 to do the background subtraction instead of your own method."
   ]
  },
  {
   "cell_type": "code",
   "execution_count": 1,
   "metadata": {},
   "outputs": [],
   "source": [
    "import glob\n",
    "import cv2\n",
    "import numpy as np\n",
    "\n",
    "images = [cv2.imread(f, cv2.IMREAD_GRAYSCALE)\n",
    "          for f in glob.glob(\"exercise_materials/Test016/*.tif\")]\n",
    "\n",
    "current_image = 0\n",
    "background = images[0]/255\n",
    "alpha = 0.5\n",
    "\n",
    "for i in range(1, len(images)):\n",
    "    background += images[i]/255\n",
    "background /= len(images)\n",
    "background *= 255\n",
    "\n",
    "backSub = cv2.createBackgroundSubtractorMOG2()\n",
    "\n",
    "while 1:\n",
    "    test_image = images[current_image]\n",
    "    foreground = backSub.apply(test_image)\n",
    "\n",
    "    _, foreground_mask = cv2.threshold(foreground, 50, 255, cv2.THRESH_BINARY)\n",
    "    foreground_mask = foreground_mask.astype(np.uint8)\n",
    "    output_image = cv2.cvtColor(test_image, cv2.COLOR_GRAY2BGR)\n",
    "    empty_image = np.zeros(foreground_mask.shape, foreground_mask.dtype)\n",
    "    foreground_mask_red = np.stack(\n",
    "        [empty_image, empty_image, foreground_mask], axis=2)\n",
    "    output_image = cv2.addWeighted(\n",
    "        output_image, alpha, foreground_mask_red, 1.0 - alpha, 0)\n",
    "\n",
    "    cv2.imshow(\"Output\", output_image)\n",
    "\n",
    "    key = cv2.waitKey(0)\n",
    "    if key == 113 or key == 27:  # q or Esc\n",
    "        break\n",
    "    if key == 109:  # Right arrow\n",
    "        current_image = min(current_image + 1, len(images)-1)\n",
    "    if key == 110:  # Left arrow\n",
    "        current_image = max(current_image - 1, 0)\n"
   ]
  },
  {
   "cell_type": "markdown",
   "metadata": {},
   "source": [
    "## Exercise 2\n",
    "1. Download the video from [here](https://www.bogotobogo.com/python/OpenCV_Python/images/mean_shift_tracking/slow_traffic_small.mp4)\n",
    "2. Compute optical flow with Lucas Kanade and GoodFeaturesToTrack ([hint](https://github.com/opencv/opencv/blob/master/samples/python/tutorial_code/video/optical_flow/optical_flow.py))"
   ]
  }
 ],
 "metadata": {
  "interpreter": {
   "hash": "497aa21ce623674ab57e6a8a3790f2b06ff9b9f73cfc8bf83ec5958a2866ef63"
  },
  "kernelspec": {
   "display_name": "Python 3.9.10 ('IPCV')",
   "language": "python",
   "name": "python3"
  },
  "language_info": {
   "codemirror_mode": {
    "name": "ipython",
    "version": 3
   },
   "file_extension": ".py",
   "mimetype": "text/x-python",
   "name": "python",
   "nbconvert_exporter": "python",
   "pygments_lexer": "ipython3",
   "version": "3.9.10"
  },
  "orig_nbformat": 4
 },
 "nbformat": 4,
 "nbformat_minor": 2
}
